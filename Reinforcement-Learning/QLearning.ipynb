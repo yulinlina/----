{
 "cells": [
  {
   "cell_type": "code",
   "execution_count": 1,
   "metadata": {},
   "outputs": [],
   "source": [
    "import gym\n",
    "import numpy as np\n",
    "import random"
   ]
  },
  {
   "cell_type": "code",
   "execution_count": 2,
   "metadata": {},
   "outputs": [
    {
     "name": "stderr",
     "output_type": "stream",
     "text": [
      "d:\\Anaconda3\\lib\\site-packages\\ipykernel\\ipkernel.py:287: DeprecationWarning: `should_run_async` will not call `transform_cell` automatically in the future. Please pass the result to `transformed_cell` argument and any exception that happen during thetransform in `preprocessing_exc_tuple` in IPython 7.17 and above.\n",
      "  and should_run_async(code)\n"
     ]
    }
   ],
   "source": [
    "Q={}\n",
    "epsilion=0.3\n",
    "alpha=0.3\n",
    "gamma=0.9\n",
    "actions=[0,1]"
   ]
  },
  {
   "cell_type": "code",
   "execution_count": 3,
   "metadata": {},
   "outputs": [
    {
     "name": "stderr",
     "output_type": "stream",
     "text": [
      "d:\\Anaconda3\\lib\\site-packages\\ipywidgets\\widgets\\widget.py:412: DeprecationWarning: Passing unrecognized arguments to super(Canvas).__init__().\n",
      "__init__() missing 1 required positional argument: 'figure'\n",
      "This is deprecated in traitlets 4.2.This error will be raised in a future release of traitlets.\n",
      "  super(Widget, self).__init__(**kwargs)\n",
      "d:\\Anaconda3\\lib\\site-packages\\ipywidgets\\widgets\\widget.py:412: DeprecationWarning: Passing unrecognized arguments to super(Toolbar).__init__().\n",
      "__init__() missing 1 required positional argument: 'canvas'\n",
      "This is deprecated in traitlets 4.2.This error will be raised in a future release of traitlets.\n",
      "  super(Widget, self).__init__(**kwargs)\n"
     ]
    },
    {
     "data": {
      "text/plain": [
       "(0.0, 1.0, 0.0, 1.0)"
      ]
     },
     "execution_count": 3,
     "metadata": {},
     "output_type": "execute_result"
    },
    {
     "data": {
      "application/vnd.jupyter.widget-view+json": {
       "model_id": "6b1c93768b0b4aa2af536bfe36e79707",
       "version_major": 2,
       "version_minor": 0
      },
      "image/png": "[encoded data removed]",
      "text/html": [
       "\n",
       "            <div style=\"display: inline-block;\">\n",
       "                <div class=\"jupyter-widgets widget-label\" style=\"text-align: center;\">\n",
       "                    Figure\n",
       "                </div>\n",
       "                <img src='data:image/png;base64,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' width=640.0/>\n",
       "            </div>\n",
       "        "
      ],
      "text/plain": [
       "Canvas(toolbar=Toolbar(toolitems=[('Home', 'Reset original view', 'home', 'home'), ('Back', 'Back to previous …"
      ]
     },
     "metadata": {},
     "output_type": "display_data"
    }
   ],
   "source": [
    "%matplotlib widget\n",
    "import matplotlib.pyplot as plt\n",
    "\n",
    "fig,ax = plt.subplots()\n",
    "ax.axis(\"off\")"
   ]
  },
  {
   "cell_type": "code",
   "execution_count": 4,
   "metadata": {},
   "outputs": [
    {
     "name": "stderr",
     "output_type": "stream",
     "text": [
      "d:\\Anaconda3\\lib\\site-packages\\ipykernel\\ipkernel.py:287: DeprecationWarning: `should_run_async` will not call `transform_cell` automatically in the future. Please pass the result to `transformed_cell` argument and any exception that happen during thetransform in `preprocessing_exc_tuple` in IPython 7.17 and above.\n",
      "  and should_run_async(code)\n"
     ]
    },
    {
     "name": "stdout",
     "output_type": "stream",
     "text": [
      "Episode finished after31 timesteps\n"
     ]
    }
   ],
   "source": [
    "env=gym.make(\"CartPole-v1\")\n",
    "\n",
    "observation=env.reset()\n",
    "img= ax.imshow(env.render(mode=\"rgb_array\"))\n",
    "\n",
    "for t in range(200):\n",
    "    action =env.action_space.sample()\n",
    "    observation,reward,done,info = env.step(action)\n",
    "    img.set_data(env.render(mode=\"rgb_array\"))\n",
    "    \n",
    "    ax.text(0.5,0.5,str(t),fontsize=20,backgroundcolor=\"white\")\n",
    "    fig.canvas.draw()\n",
    "    if done:\n",
    "        print(f\"Episode finished after{t} timesteps\")\n",
    "        break\n",
    "env.close()\n",
    "    "
   ]
  },
  {
   "cell_type": "code",
   "execution_count": 5,
   "metadata": {},
   "outputs": [
    {
     "name": "stderr",
     "output_type": "stream",
     "text": [
      "d:\\Anaconda3\\lib\\site-packages\\ipykernel\\ipkernel.py:287: DeprecationWarning: `should_run_async` will not call `transform_cell` automatically in the future. Please pass the result to `transformed_cell` argument and any exception that happen during thetransform in `preprocessing_exc_tuple` in IPython 7.17 and above.\n",
      "  and should_run_async(code)\n"
     ]
    }
   ],
   "source": [
    "def quantilize(observation):\n",
    "    pos,vel,ang,ang_vel =observation\n",
    "    pos=np.digitize(pos,bins=np.linspace(-2.4,2.4,num=10))\n",
    "    vel = np.digitize(vel,bins=np.linspace(-3.5,3.5,num=10))\n",
    "    ang = np.digitize(ang,bins=np.linspace(-0.5,0.5,num=10))\n",
    "    ang_vel=np.digitize(ang_vel,bins=np.linspace(-3,3,num=10))\n",
    "    return pos,vel,ang,ang_vel\n",
    "    "
   ]
  },
  {
   "cell_type": "code",
   "execution_count": 6,
   "metadata": {},
   "outputs": [],
   "source": [
    "def choose_action(state):\n",
    "    q=np.array([Q.get((state,a),0) for a in actions],dtype=np.float32)\n",
    "\n",
    "    if random.random()<epsilion:\n",
    "        mag = np.abs(q).max()\n",
    "        # add a random value to all the actions,recalculate maxQ\n",
    "        q+=(np.random.rand(len(actions))-0.5)*mag\n",
    "\n",
    "    if q.max()==q.min():\n",
    "        i = np.random.choice(np.flatnonzero(q==q.max()))\n",
    "    else:\n",
    "        i = q.argmax()\n",
    "\n",
    "    return actions[i]\n",
    "\n",
    "    \n"
   ]
  },
  {
   "cell_type": "code",
   "execution_count": 7,
   "metadata": {},
   "outputs": [],
   "source": [
    "def learn(state,action,reward,next_state):\n",
    "    q_old = Q.get((state,action),None)\n",
    "    if q_old is None:\n",
    "        Q[(state,action)]=reward\n",
    "    else:\n",
    "         Q[(state,action)]=q_old+alpha*(reward+gamma*(max([Q.get((next_state,a),0) for a in actions]))-q_old)"
   ]
  },
  {
   "cell_type": "code",
   "execution_count": 8,
   "metadata": {},
   "outputs": [
    {
     "name": "stderr",
     "output_type": "stream",
     "text": [
      "d:\\Anaconda3\\lib\\site-packages\\ipywidgets\\widgets\\widget.py:412: DeprecationWarning: Passing unrecognized arguments to super(Canvas).__init__().\n",
      "__init__() missing 1 required positional argument: 'figure'\n",
      "This is deprecated in traitlets 4.2.This error will be raised in a future release of traitlets.\n",
      "  super(Widget, self).__init__(**kwargs)\n",
      "d:\\Anaconda3\\lib\\site-packages\\ipywidgets\\widgets\\widget.py:412: DeprecationWarning: Passing unrecognized arguments to super(Toolbar).__init__().\n",
      "__init__() missing 1 required positional argument: 'canvas'\n",
      "This is deprecated in traitlets 4.2.This error will be raised in a future release of traitlets.\n",
      "  super(Widget, self).__init__(**kwargs)\n"
     ]
    },
    {
     "data": {
      "text/plain": [
       "(0.0, 1.0, 0.0, 1.0)"
      ]
     },
     "execution_count": 8,
     "metadata": {},
     "output_type": "execute_result"
    },
    {
     "data": {
      "application/vnd.jupyter.widget-view+json": {
       "model_id": "9327f20cca4f4a57891fbcce90338e76",
       "version_major": 2,
       "version_minor": 0
      },
      "image/png": "[encoded data removed]",
      "text/html": [
       "\n",
       "            <div style=\"display: inline-block;\">\n",
       "                <div class=\"jupyter-widgets widget-label\" style=\"text-align: center;\">\n",
       "                    Figure\n",
       "                </div>\n",
       "                <img src='data:image/png;base64,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' width=640.0/>\n",
       "            </div>\n",
       "        "
      ],
      "text/plain": [
       "Canvas(toolbar=Toolbar(toolitems=[('Home', 'Reset original view', 'home', 'home'), ('Back', 'Back to previous …"
      ]
     },
     "metadata": {},
     "output_type": "display_data"
    }
   ],
   "source": [
    "%matplotlib widget\n",
    "import matplotlib.pyplot as plt\n",
    "\n",
    "fig,ax2 = plt.subplots()\n",
    "ax2.axis('off')"
   ]
  },
  {
   "cell_type": "code",
   "execution_count": 9,
   "metadata": {},
   "outputs": [
    {
     "name": "stdout",
     "output_type": "stream",
     "text": [
      "Episode 0 finished after10 timesteps\n",
      "Episode 1 finished after13 timesteps\n",
      "Episode 2 finished after13 timesteps\n",
      "Episode 3 finished after14 timesteps\n",
      "Episode 4 finished after10 timesteps\n",
      "Episode 5 finished after8 timesteps\n",
      "Episode 6 finished after8 timesteps\n",
      "Episode 7 finished after15 timesteps\n",
      "Episode 8 finished after8 timesteps\n",
      "Episode 9 finished after12 timesteps\n",
      "Episode 10 finished after13 timesteps\n",
      "Episode 11 finished after15 timesteps\n",
      "Episode 12 finished after16 timesteps\n",
      "Episode 13 finished after17 timesteps\n",
      "Episode 14 finished after15 timesteps\n",
      "Episode 15 finished after23 timesteps\n",
      "Episode 16 finished after52 timesteps\n",
      "Episode 17 finished after32 timesteps\n",
      "Episode 18 finished after37 timesteps\n",
      "Episode 19 finished after48 timesteps\n",
      "Episode 20 finished after52 timesteps\n",
      "Episode 21 finished after52 timesteps\n",
      "Episode 22 finished after52 timesteps\n",
      "Episode 23 finished after59 timesteps\n",
      "Episode 24 finished after14 timesteps\n",
      "Episode 25 finished after51 timesteps\n",
      "Episode 26 finished after10 timesteps\n",
      "Episode 27 finished after7 timesteps\n",
      "Episode 28 finished after11 timesteps\n",
      "Episode 29 finished after46 timesteps\n",
      "Episode 30 finished after12 timesteps\n",
      "Episode 31 finished after57 timesteps\n",
      "Episode 32 finished after73 timesteps\n",
      "Episode 33 finished after34 timesteps\n",
      "Episode 34 finished after103 timesteps\n",
      "Episode 35 finished after48 timesteps\n",
      "Episode 36 finished after63 timesteps\n",
      "Episode 37 finished after40 timesteps\n",
      "Episode 38 finished after140 timesteps\n",
      "Episode 39 finished after48 timesteps\n",
      "Episode 41 finished after54 timesteps\n",
      "Episode 42 finished after42 timesteps\n",
      "Episode 43 finished after41 timesteps\n",
      "Episode 44 finished after58 timesteps\n",
      "Episode 45 finished after55 timesteps\n",
      "Episode 46 finished after81 timesteps\n",
      "Episode 47 finished after66 timesteps\n",
      "Episode 48 finished after38 timesteps\n",
      "Episode 49 finished after69 timesteps\n",
      "Episode 50 finished after54 timesteps\n",
      "Episode 51 finished after39 timesteps\n",
      "Episode 52 finished after36 timesteps\n",
      "Episode 53 finished after69 timesteps\n",
      "Episode 54 finished after70 timesteps\n",
      "Episode 55 finished after145 timesteps\n",
      "Episode 56 finished after65 timesteps\n",
      "Episode 57 finished after85 timesteps\n",
      "Episode 58 finished after56 timesteps\n",
      "Episode 59 finished after82 timesteps\n",
      "Episode 60 finished after106 timesteps\n",
      "Episode 61 finished after77 timesteps\n",
      "Episode 62 finished after94 timesteps\n",
      "Episode 63 finished after74 timesteps\n",
      "Episode 64 finished after144 timesteps\n",
      "Episode 65 finished after51 timesteps\n",
      "Episode 66 finished after177 timesteps\n",
      "Episode 68 finished after173 timesteps\n",
      "Episode 69 finished after146 timesteps\n",
      "Episode 70 finished after143 timesteps\n",
      "Episode 71 finished after180 timesteps\n",
      "Episode 72 finished after88 timesteps\n",
      "Episode 73 finished after101 timesteps\n",
      "Episode 74 finished after81 timesteps\n",
      "Episode 75 finished after146 timesteps\n",
      "Episode 76 finished after119 timesteps\n",
      "Episode 77 finished after98 timesteps\n",
      "Episode 78 finished after156 timesteps\n",
      "Episode 79 finished after130 timesteps\n",
      "Episode 80 finished after110 timesteps\n",
      "Episode 81 finished after174 timesteps\n",
      "Episode 82 finished after111 timesteps\n",
      "Episode 83 finished after158 timesteps\n",
      "Episode 84 finished after163 timesteps\n",
      "Episode 86 finished after176 timesteps\n",
      "Episode 88 finished after130 timesteps\n",
      "Episode 89 finished after140 timesteps\n",
      "Episode 90 finished after126 timesteps\n",
      "Episode 91 finished after154 timesteps\n",
      "Episode 92 finished after112 timesteps\n",
      "Episode 94 finished after166 timesteps\n",
      "Episode 95 finished after91 timesteps\n",
      "Episode 96 finished after162 timesteps\n",
      "Episode 97 finished after172 timesteps\n",
      "Episode 98 finished after190 timesteps\n",
      "Episode 100 finished after149 timesteps\n",
      "Episode 102 finished after166 timesteps\n",
      "Episode 106 finished after189 timesteps\n",
      "Episode 107 finished after168 timesteps\n",
      "Episode 108 finished after163 timesteps\n",
      "Episode 109 finished after189 timesteps\n",
      "Episode 110 finished after191 timesteps\n",
      "Episode 112 finished after136 timesteps\n",
      "Episode 113 finished after195 timesteps\n",
      "Episode 115 finished after134 timesteps\n",
      "Episode 117 finished after114 timesteps\n",
      "Episode 119 finished after187 timesteps\n",
      "Episode 121 finished after176 timesteps\n",
      "Episode 122 finished after186 timesteps\n",
      "Episode 127 finished after180 timesteps\n",
      "Episode 128 finished after167 timesteps\n",
      "Episode 132 finished after163 timesteps\n",
      "Episode 133 finished after195 timesteps\n",
      "Episode 134 finished after133 timesteps\n",
      "Episode 141 finished after195 timesteps\n",
      "Episode 145 finished after174 timesteps\n",
      "Episode 149 finished after150 timesteps\n",
      "Episode 150 finished after174 timesteps\n",
      "Episode 152 finished after199 timesteps\n",
      "Episode 154 finished after193 timesteps\n",
      "Episode 156 finished after184 timesteps\n",
      "Episode 160 finished after134 timesteps\n",
      "Episode 161 finished after186 timesteps\n",
      "Episode 162 finished after195 timesteps\n",
      "Episode 163 finished after150 timesteps\n",
      "Episode 164 finished after167 timesteps\n",
      "Episode 165 finished after146 timesteps\n",
      "Episode 166 finished after148 timesteps\n",
      "Episode 168 finished after153 timesteps\n",
      "Episode 170 finished after170 timesteps\n",
      "Episode 172 finished after195 timesteps\n",
      "Episode 173 finished after132 timesteps\n",
      "Episode 175 finished after189 timesteps\n",
      "Episode 176 finished after135 timesteps\n",
      "Episode 177 finished after171 timesteps\n",
      "Episode 180 finished after128 timesteps\n",
      "Episode 182 finished after161 timesteps\n",
      "Episode 186 finished after169 timesteps\n",
      "Episode 194 finished after150 timesteps\n",
      "Episode 195 finished after197 timesteps\n",
      "Episode 196 finished after184 timesteps\n",
      "Episode 197 finished after184 timesteps\n",
      "Episode 198 finished after161 timesteps\n",
      "Episode 200 finished after167 timesteps\n",
      "Episode 201 finished after183 timesteps\n",
      "Episode 203 finished after169 timesteps\n",
      "Episode 205 finished after199 timesteps\n",
      "Episode 206 finished after195 timesteps\n",
      "Episode 207 finished after166 timesteps\n",
      "Episode 210 finished after145 timesteps\n",
      "Episode 211 finished after173 timesteps\n",
      "Episode 212 finished after196 timesteps\n",
      "Episode 213 finished after149 timesteps\n",
      "Episode 214 finished after174 timesteps\n",
      "Episode 215 finished after166 timesteps\n",
      "Episode 216 finished after189 timesteps\n",
      "Episode 221 finished after157 timesteps\n",
      "Episode 222 finished after156 timesteps\n",
      "Episode 224 finished after152 timesteps\n",
      "Episode 226 finished after185 timesteps\n",
      "Episode 227 finished after161 timesteps\n",
      "Episode 230 finished after147 timesteps\n",
      "Episode 233 finished after181 timesteps\n",
      "Episode 236 finished after183 timesteps\n",
      "Episode 237 finished after194 timesteps\n",
      "Episode 239 finished after174 timesteps\n",
      "Episode 244 finished after132 timesteps\n",
      "Episode 247 finished after99 timesteps\n",
      "Episode 251 finished after190 timesteps\n",
      "Episode 253 finished after158 timesteps\n",
      "Episode 254 finished after157 timesteps\n",
      "Episode 255 finished after182 timesteps\n",
      "Episode 256 finished after163 timesteps\n",
      "Episode 259 finished after187 timesteps\n",
      "Episode 262 finished after176 timesteps\n",
      "Episode 263 finished after195 timesteps\n",
      "Episode 265 finished after180 timesteps\n",
      "Episode 266 finished after161 timesteps\n",
      "Episode 268 finished after150 timesteps\n",
      "Episode 273 finished after163 timesteps\n",
      "Episode 285 finished after174 timesteps\n",
      "Episode 289 finished after188 timesteps\n",
      "Episode 296 finished after195 timesteps\n",
      "Episode 298 finished after188 timesteps\n"
     ]
    }
   ],
   "source": [
    "env=gym.make(\"CartPole-v1\")\n",
    "observation=env.reset()\n",
    "img = ax2.imshow(env.render(mode=\"rgb_array\"))\n",
    "\n",
    "\n",
    "\n",
    "last_t=0\n",
    "last_avg_t=0 \n",
    "\n",
    "for episode in range(300):\n",
    "    observation=env.reset()\n",
    "    for t in range (200):\n",
    "        state=quantilize(observation)\n",
    "        action = choose_action(state)\n",
    "        observation,reward,done,info = env.step(action)\n",
    "        next_state = quantilize(observation)\n",
    "        \n",
    "        img.set_data(env.render(mode=\"rgb_array\"))\n",
    "        fig.canvas.draw()\n",
    "        \n",
    "\n",
    "        if not done:\n",
    "            learn(state,action,reward,next_state)\n",
    "        else:\n",
    "            learn(state,action,-100,next_state)\n",
    "\n",
    "            print(f\"Episode {episode} finished after{t} timesteps\")\n",
    "            ax2.plot([episode,episode+1],[last_t,t],\"blue\")\n",
    "            avg_t = last_avg_t*0.9+t*0.1\n",
    "            ax2.plot([episode,episode+1],[last_avg_t,avg_t],\"orange\")\n",
    "            fig.canvas.draw()\n",
    "            last_t=t\n",
    "            last_avg_t=avg_t\n",
    "            break \n",
    "       \n",
    "    \n",
    "env.close()"
   ]
  }
 ],
 "metadata": {
  "kernelspec": {
   "display_name": "Python 3.8.8 ('base')",
   "language": "python",
   "name": "python3"
  },
  "language_info": {
   "codemirror_mode": {
    "name": "ipython",
    "version": 3
   },
   "file_extension": ".py",
   "mimetype": "text/x-python",
   "name": "python",
   "nbconvert_exporter": "python",
   "pygments_lexer": "ipython3",
   "version": "3.8.8"
  },
  "orig_nbformat": 4,
  "vscode": {
   "interpreter": {
    "hash": "b09ec625f77bf4fd762565a912b97636504ad6ec901eb2d0f4cf5a7de23e1ee5"
   }
  }
 },
 "nbformat": 4,
 "nbformat_minor": 2
}
