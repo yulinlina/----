{
 "cells": [
  {
   "cell_type": "markdown",
   "metadata": {},
   "source": [
    "# H3 - Univariate Linear Regression\n",
    "\n",
    "- Student Name:王昊霖\n",
    "- Student ID:2020141440041\n",
    "- Deadline: 2022年03月21日 13:00\n",
    "- Submit to：人工智能引论2022"
   ]
  },
  {
   "cell_type": "code",
   "execution_count": 1,
   "metadata": {},
   "outputs": [],
   "source": [
    "# import necessary modules\n",
    "from matplotlib import pyplot as plt\n",
    "import torch"
   ]
  },
  {
   "cell_type": "markdown",
   "metadata": {},
   "source": [
    "## data"
   ]
  },
  {
   "cell_type": "code",
   "execution_count": 2,
   "metadata": {},
   "outputs": [
    {
     "name": "stdout",
     "output_type": "stream",
     "text": [
      "tensor([ 1.1568,  2.6241,  2.9430,  2.5000,  3.5305,  4.0455,  5.6073,  5.7843,\n",
      "         7.0160,  8.3042,  7.3518,  8.7998,  9.3467, 10.2325, 11.8721]) tensor([ 3.9493,  1.7464,  9.9020,  5.3267, 10.5691, 12.4937, 14.5315, 15.7582,\n",
      "        12.2359, 12.5361, 19.3493, 18.3473, 18.8121, 19.7504, 24.6730])\n"
     ]
    }
   ],
   "source": [
    "x=[1.156762,2.624116,2.943006,2.499967,3.530516,4.045524,5.60725,5.784322,7.01605,8.304229,7.351775,8.799763,9.3467,10.232547,11.872116]\n",
    "y=[3.949326,1.746431,9.902035,5.32671,10.569117,12.493749,14.531507,15.758228,12.235891,12.536069,19.349313,18.347272,18.812099,19.750414,24.672962]\n",
    "x=torch.tensor(x)\n",
    "y=torch.tensor(y)\n",
    "print(x,y)"
   ]
  },
  {
   "cell_type": "markdown",
   "metadata": {},
   "source": [
    "# univariate linear model\n",
    "\n",
    "$a = w*x + b$"
   ]
  },
  {
   "cell_type": "code",
   "execution_count": 3,
   "metadata": {},
   "outputs": [],
   "source": [
    "class UniLinearModel:\n",
    "    def __init__(self, w=0.1, b=0.1):\n",
    "        self.w, self.b = w, b\n",
    "    \n",
    "    def __call__(self, x):\n",
    "        a = 0.\n",
    "        #################\n",
    "        ### Your Code Here\n",
    "        #calculate a by using w and b\n",
    "        a = w*x+b\n",
    "\n",
    "        #################\n",
    "        return a\n",
    "    \n",
    "    def update(self, w, b):\n",
    "        self.w, self.b = w, b\n"
   ]
  },
  {
   "cell_type": "markdown",
   "metadata": {},
   "source": [
    "## implement Least Squares Approximations\n",
    "\n",
    "- step1: $\\bar{x} = \\frac{1}{m}\\sum^{m}_{i=1}{x^{i}}$\n",
    "- step2: $\\bar{y} = \\frac{1}{m}\\sum^{m}_{i=1}{y^{i}}$\n",
    "- step3: $w = \\frac{\\sum_{i=1}^{m}{y^{i}*x^{i}} - m \\bar{y}* \\bar{x}}{\\sum_{i=1}^{m}{x^{i}*x^{i}} - m \\bar{x}* \\bar{x}}$\n",
    "- step4: $b = \\bar{y} - w * \\bar{x}$"
   ]
  },
  {
   "cell_type": "code",
   "execution_count": 4,
   "metadata": {},
   "outputs": [],
   "source": [
    "def uni_least_square(x, y):\n",
    "    w, b = 1, 1\n",
    "    #################\n",
    "    ### Your Code Here\n",
    "\n",
    "    # step 1: calculate mean of x\n",
    "    x_ = torch.mean(x)\n",
    "\n",
    "    # step 2: calculate mean of y\n",
    "    y_ = torch.mean(y)\n",
    "\n",
    "    # step 3: calculate w\n",
    "    # step 3.1: calculate the sum of y^{i}*x^{i}\n",
    "    sum_xy = sum(torch.mul(x,y))\n",
    "    # step 3.2: calculate the sum of square of x^{i}\n",
    "    sum_x =  sum(torch.mul(x,x))\n",
    "    # step 3.3 calculate w\n",
    "    m = len(x)\n",
    "    w= (sum_xy-m*x_*y_)/(sum_x-m*x_**2)\n",
    "    # step 4: calculate b   \n",
    "    b = y_-w*x_\n",
    "    #################\n",
    "    return w, b"
   ]
  },
  {
   "cell_type": "markdown",
   "metadata": {},
   "source": [
    "### Running"
   ]
  },
  {
   "cell_type": "code",
   "execution_count": 5,
   "metadata": {},
   "outputs": [
    {
     "name": "stdout",
     "output_type": "stream",
     "text": [
      "----------------------------------------\n",
      "least square method: w=1.7924264669418335, b=2.444321632385254\n",
      "----------------------------------------\n"
     ]
    },
    {
     "data": {
      "text/plain": [
       "[<matplotlib.lines.Line2D at 0x1f51f7ea220>]"
      ]
     },
     "execution_count": 5,
     "metadata": {},
     "output_type": "execute_result"
    },
    {
     "data": {
      "image/png": "[encoded data removed]",
      "text/plain": [
       "<Figure size 432x288 with 1 Axes>"
      ]
     },
     "metadata": {
      "needs_background": "light"
     },
     "output_type": "display_data"
    }
   ],
   "source": [
    "\n",
    "w, b = uni_least_square(x, y)\n",
    "print(\"-\"*40)\n",
    "print(\"least square method: w={}, b={}\".format(w, b))\n",
    "print(\"-\"*40)\n",
    "model = UniLinearModel()\n",
    "model.update(w, b)\n",
    "a = [model(x_i) for x_i in x]\n",
    "\n",
    "plt.figure()\n",
    "plt.plot(x, y, 'o')\n",
    "plt.plot(x, a, '-')"
   ]
  },
  {
   "cell_type": "markdown",
   "metadata": {},
   "source": [
    "## implement grad descent algorithm for univariate lienear regression\n",
    "\n",
    "\n",
    "- step 1: calculate a for each x : $a^{i} = w*x^{i} + b$\n",
    "- step 2: calculate  $\\frac{\\partial J}{\\partial w} =  \\frac{1}{m}\\sum_{i=1}^{m}{[(a^{i}-y^{i})*x^{i}}]$\n",
    "- step 3: calculate  $\\frac{\\partial J}{\\partial b} = \\frac{1}{m}\\sum_{i=1}^{m}{(a^{i}-y^{i})}$\n",
    "- step 4: update w by:  $w \\gets w - \\alpha \\frac{\\partial J}{\\partial w}$\n",
    "- step 5: update b by:  $b \\gets b - \\alpha \\frac{\\partial J}{\\partial b}$"
   ]
  },
  {
   "cell_type": "markdown",
   "metadata": {},
   "source": [
    "### Gradent desent"
   ]
  },
  {
   "cell_type": "code",
   "execution_count": 6,
   "metadata": {},
   "outputs": [],
   "source": [
    "def grad(model, x, y):\n",
    "    grad_w, grad_b = 0, 0\n",
    "    #################\n",
    "    ### Your Code Here\n",
    "    # step 1: calculate a for each x : $a^{i} = w*x^{i} + b$\n",
    "    a=[model.w*x_i+model.b for x_i in x]\n",
    "    m = len(a)\n",
    "    # step 2: calculate  gradient of J with respect to w\n",
    "    grad_w =sum([(a_i-y_i)*x_i for a_i,y_i,x_i in zip(a,y,x)])/m\n",
    "    # step 3: calculate  gradient of J with respect to b\n",
    "    grad_b =sum([a_i-y_i for a_i,y_i,x_i in zip(a,y,x)])/m\n",
    "    #################\n",
    "    return grad_w, grad_b"
   ]
  },
  {
   "cell_type": "markdown",
   "metadata": {},
   "source": [
    "### Cost function"
   ]
  },
  {
   "cell_type": "code",
   "execution_count": 7,
   "metadata": {},
   "outputs": [],
   "source": [
    "def cost(model, x, y):\n",
    "    J = sum([(model(x_i)-y_i)**2 for x_i, y_i in zip(x, y)])/len(x)/2\n",
    "    return J"
   ]
  },
  {
   "cell_type": "markdown",
   "metadata": {},
   "source": [
    "### Training"
   ]
  },
  {
   "cell_type": "code",
   "execution_count": 8,
   "metadata": {},
   "outputs": [
    {
     "name": "stdout",
     "output_type": "stream",
     "text": [
      "----------------------------------------\n",
      "gradient descent method: w=1.883414387702942, b=1.883414387702942\n",
      "----------------------------------------\n"
     ]
    },
    {
     "data": {
      "text/plain": [
       "<matplotlib.legend.Legend at 0x1f5208da520>"
      ]
     },
     "execution_count": 8,
     "metadata": {},
     "output_type": "execute_result"
    },
    {
     "data": {
      "image/png": "[encoded data removed]",
      "text/plain": [
       "<Figure size 432x288 with 1 Axes>"
      ]
     },
     "metadata": {
      "needs_background": "light"
     },
     "output_type": "display_data"
    },
    {
     "data": {
      "image/png": "[encoded data removed]",
      "text/plain": [
       "<Figure size 432x288 with 1 Axes>"
      ]
     },
     "metadata": {
      "needs_background": "light"
     },
     "output_type": "display_data"
    }
   ],
   "source": [
    "model = UniLinearModel()\n",
    "epochs =100\n",
    "lr = 0.01\n",
    "Js = []\n",
    "\n",
    "for epoch in range(epochs):\n",
    "    w, b = model.w, model.b\n",
    "    grad_w, grad_b = grad(model, x, y)\n",
    "    #################\n",
    "    ### Your Code Here\n",
    "    w_next, b_next =lr*grad_b,lr*grad_b\n",
    "    # step 4: update w \n",
    "    w-=w_next\n",
    "    # step 5: update b \n",
    "    b-=b_next\n",
    "    #step3: update linear model\n",
    "    model.update(w, b)\n",
    "    #################\n",
    "    Js.append(cost(model, x, y))\n",
    "\n",
    "\n",
    "plt.plot(Js,'r-*',label=\"cost\")\n",
    "plt.legend()\n",
    "print(\"-\"*40)\n",
    "print(\"gradient descent method: w={}, b={}\".format(w, b))\n",
    "print(\"-\"*40)    \n",
    "    \n",
    "a = [model(x_i) for x_i in x]\n",
    "\n",
    "plt.figure()\n",
    "plt.plot(x, y, 'o', label=\"data\")\n",
    "plt.plot(x, a, '-', label=\"linear model\")\n",
    "plt.legend()"
   ]
  }
 ],
 "metadata": {
  "interpreter": {
   "hash": "14da386a6e18213291816d02815fd85819b117a8cdf1629134f14b53ba124c27"
  },
  "kernelspec": {
   "display_name": "Python 3.9.2 64-bit",
   "language": "python",
   "name": "python3"
  },
  "language_info": {
   "codemirror_mode": {
    "name": "ipython",
    "version": 3
   },
   "file_extension": ".py",
   "mimetype": "text/x-python",
   "name": "python",
   "nbconvert_exporter": "python",
   "pygments_lexer": "ipython3",
   "version": "3.8.8"
  },
  "orig_nbformat": 4
 },
 "nbformat": 4,
 "nbformat_minor": 2
}
