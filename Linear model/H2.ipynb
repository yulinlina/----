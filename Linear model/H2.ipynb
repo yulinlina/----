{
 "cells": [
  {
   "cell_type": "markdown",
   "metadata": {},
   "source": [
    "# H2 - Number Riddle \n",
    "\n",
    "- Student Name:\n",
    "- Student ID:\n",
    "- Deadline: 2022-03-07 13:30\n",
    "- Submit to：https://workspace.jianguoyun.com/inbox/collect/1a82846fe000412685d417096d450b00/submit"
   ]
  },
  {
   "cell_type": "markdown",
   "metadata": {},
   "source": [
    "Implement the game of Number Riddle\n",
    "- Set a random number to `num` and start the loop\n",
    "- let player input a number from keyboard\n",
    "- if the input number is larger than  the predefined `num`, print `too large`\n",
    "- if the input number is smaller than  the predefined  `num`, print `too small`\n",
    "- if the input number equals the predefined `num`, print `YOUR ARE RIGHT!` and terminal the loop\n",
    "\n"
   ]
  },
  {
   "cell_type": "code",
   "execution_count": 1,
   "metadata": {},
   "outputs": [
    {
     "name": "stdout",
     "output_type": "stream",
     "text": [
      "start NUMBER RIDDLE...\n",
      "100 :too small\n",
      "100 :too small\n",
      "150 :too small\n",
      "175 : too large\n",
      "190 : too large\n",
      "160 :too small\n",
      "155 :too small\n",
      "168 : too large\n",
      "165 : too large\n",
      "163 : too large\n",
      "162 : too large\n",
      "YOU ARE RIGHT!\n"
     ]
    }
   ],
   "source": [
    "\n",
    "import random\n",
    "\n",
    "num = random.randint(1, 200)\n",
    "\n",
    "print('start NUMBER RIDDLE...')\n",
    "while True:\n",
    "    #### START YOUR CODE HERE ####\n",
    "\n",
    "    # Step1. let player input a number from keyboard and translate it to int\n",
    "    ans = int(input(\"please input a number\"))\n",
    "\n",
    "    # Step2. if the input number is larger than  the predefined `num`, print `too large`\n",
    "    if ans >num:\n",
    "        print(ans,\": too large\")\n",
    "\n",
    "    # Step3. if the input number is smaller than  the predefined  `num`, print `too small`\n",
    "    elif ans<num :\n",
    "        print(ans,\":too small\")\n",
    "    # Step4. if the input number equals the predefined `num`, print `YOUR ARE RIGHT!` and terminal the loop\n",
    "    else:\n",
    "        print(\"YOU ARE RIGHT!\")\n",
    "        break\n",
    "    #### END OF YOUR CODE    ####"
   ]
  },
  {
   "cell_type": "code",
   "execution_count": null,
   "metadata": {},
   "outputs": [],
   "source": []
  }
 ],
 "metadata": {
  "interpreter": {
   "hash": "14da386a6e18213291816d02815fd85819b117a8cdf1629134f14b53ba124c27"
  },
  "kernelspec": {
   "display_name": "Python 3.9.2 64-bit",
   "language": "python",
   "name": "python3"
  },
  "language_info": {
   "codemirror_mode": {
    "name": "ipython",
    "version": 3
   },
   "file_extension": ".py",
   "mimetype": "text/x-python",
   "name": "python",
   "nbconvert_exporter": "python",
   "pygments_lexer": "ipython3",
   "version": "3.10.2"
  },
  "orig_nbformat": 4
 },
 "nbformat": 4,
 "nbformat_minor": 2
}
