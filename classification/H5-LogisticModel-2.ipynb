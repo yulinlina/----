{
 "cells": [
  {
   "cell_type": "markdown",
   "metadata": {},
   "source": [
    "# Implement SGD for binary classification by using logistic model\n",
    "- Your Name: 王昊霖\n",
    "- Your ID:2020141440041"
   ]
  },
  {
   "cell_type": "markdown",
   "metadata": {},
   "source": [
    "# import necessary modules\n",
    "\n",
    "* numpy for matrix calculation, `pip install numpy`\n",
    "* matplotlib for plot figures, `pip install matplotlib`"
   ]
  },
  {
   "cell_type": "code",
   "execution_count": 83,
   "metadata": {},
   "outputs": [],
   "source": [
    "import numpy as np\n",
    "from matplotlib import pyplot as plt"
   ]
  },
  {
   "cell_type": "markdown",
   "metadata": {},
   "source": [
    "# prepare dataset D\n",
    "\n",
    "\n",
    "1. load data `x` and `y` from the file `x.npy` and `y.npy`, respectively\n",
    "2. adding bias term `1` to `x`\n"
   ]
  },
  {
   "cell_type": "code",
   "execution_count": 84,
   "metadata": {},
   "outputs": [
    {
     "name": "stdout",
     "output_type": "stream",
     "text": [
      "original shape of x:(30, 569)\n",
      "new shape of x:(31, 569)\n",
      "new shape of y:(1, 569)\n"
     ]
    }
   ],
   "source": [
    "x = np.load(\"H5-x.npy\")\n",
    "print(\"original shape of x:{}\".format(x.shape))\n",
    "max_index = np.argmax(x,axis=1) # 取每一行的最大值\n",
    "min_index =np.argmin(x,axis=1) # 取每一行的最小值\n",
    "\"\"\"归一化\"\"\"\n",
    "for  i in range(x.shape[0]):\n",
    "    d= x[i][max_index[i]]-x[i][min_index[i]]\n",
    "    for j in range(x.shape[1]):\n",
    "        x[i][j]=(x[i][j]-x[i][min_index[i]])/d  \n",
    "x = np.concatenate([x, np.ones((1,x.shape[1]))])\n",
    "x= np.double(x)\n",
    "print(\"new shape of x:{}\".format(x.shape))\n",
    " \n",
    "y = np.load(\"H5-y.npy\")\n",
    "print(\"new shape of y:{}\".format(y.shape))"
   ]
  },
  {
   "cell_type": "markdown",
   "metadata": {},
   "source": [
    "# implement the function below for logistic model\n",
    "\n",
    "$a = \\sigma (wx)$, where\n",
    "\n",
    "- $x \\in R^{31\\times n}$\n",
    "- $w \\in R^{1\\times 31}$\n",
    "- $\\sigma (z) = \\frac{1}{1+e^{-z}}$"
   ]
  },
  {
   "cell_type": "code",
   "execution_count": 85,
   "metadata": {},
   "outputs": [
    {
     "name": "stdout",
     "output_type": "stream",
     "text": [
      "(1, 569)\n",
      "0.37659499047748657 0\n",
      "0.3627418514596711 0\n",
      "0.34197564738749975 0\n",
      "0.6069492403933734 0\n",
      "0.19097243122725435 0\n",
      "0.47808140834502816 0\n",
      "0.4860642341812331 0\n",
      "0.49287176907237 0\n",
      "0.5410777833893257 0\n",
      "0.5050990506956159 0\n"
     ]
    }
   ],
   "source": [
    "def sigmoid(z):\n",
    "    #### Your code here ###\n",
    "    return 1.0/(np.exp(-z)+1)\n",
    "def logisticModel(w, x):\n",
    "    #### Your code here ####\n",
    "    a = w@x\n",
    "    ########################\n",
    "    return sigmoid(a)\n",
    "w = np.random.normal(size =(1,31))\n",
    "a= logisticModel(w,x)\n",
    "print(a.shape)\n",
    "for a_i,y_i in zip(a[0][0:10],y[0]):\n",
    "    print(a_i,y_i)"
   ]
  },
  {
   "cell_type": "markdown",
   "metadata": {},
   "source": [
    "# define cost function and accuracy\n",
    "\n",
    "\n",
    "$J= \\frac{1}{m}\\sum_{i=1}^{m}{\\left[y^{i}\\cdot \\log(a^{i})+(1-y^{i})\\cdot \\log(1-a^{i})\\right]}$\n",
    "\n",
    "$\\frac{\\partial J}{\\partial w} = \\frac{1}{m}(a-y)x^{T}$\n"
   ]
  },
  {
   "cell_type": "code",
   "execution_count": 86,
   "metadata": {},
   "outputs": [
    {
     "name": "stdout",
     "output_type": "stream",
     "text": [
      "() 569\n"
     ]
    },
    {
     "data": {
      "text/plain": [
       "(1, 31)"
      ]
     },
     "execution_count": 86,
     "metadata": {},
     "output_type": "execute_result"
    }
   ],
   "source": [
    "def cost(a, y):\n",
    "    #### Your code here ####\n",
    "    J =-sum([y_i*np.log(a_i)+(1-y_i)*np.log(1-a_i) for y_i,a_i in zip(y[0],a[0])])\n",
    "    ########################\n",
    "    return J/len(y[0])\n",
    "print(cost(a,y).shape,len(y[0]))\n",
    "\n",
    "def grad(a, x, y):\n",
    "    #### Your code here ####\n",
    "    grad_w = (a-y)@x.T\n",
    "    ########################\n",
    "    return grad_w/len(y[0])\n",
    "\n",
    "def accuarcy(a, y, tao=0.5):\n",
    "    #### Your code here ####\n",
    "    acc = 0\n",
    "    for a_i,y_i in zip(a[0],y[0]):\n",
    "        if a_i>=tao and y_i:\n",
    "            acc+=1\n",
    "        elif a_i<tao and not y_i:\n",
    "            acc+=1\n",
    "    ########################\n",
    "    return acc/x.shape[1]\n",
    "\n",
    "grad(a,x,y).shape"
   ]
  },
  {
   "cell_type": "markdown",
   "metadata": {},
   "source": [
    "# gradient descent algorithm"
   ]
  },
  {
   "cell_type": "code",
   "execution_count": 87,
   "metadata": {},
   "outputs": [
    {
     "name": "stdout",
     "output_type": "stream",
     "text": [
      "----------------------------------------\n",
      "gradient descent method: w=[[ 0.68350956 -0.78379866 -1.4459833  -2.00691342  0.3714852   0.12194567\n",
      "  -2.57418613 -3.703093   -0.31907859  1.71032033 -1.22240912  0.60412792\n",
      "   0.39588152 -1.19445827 -1.10005633  0.26304963 -0.2605941  -0.72855919\n",
      "   2.63422849  0.9668431  -0.36421713 -0.88459438 -0.93426046 -0.93657638\n",
      "   0.62198919 -3.06809039 -1.53804513 -3.94848088  0.35588329  2.58802275\n",
      "   3.73942418]]\n",
      "----------------------------------------\n"
     ]
    },
    {
     "data": {
      "image/png": "[encoded data removed]",
      "text/plain": [
       "<Figure size 432x288 with 1 Axes>"
      ]
     },
     "metadata": {
      "needs_background": "light"
     },
     "output_type": "display_data"
    }
   ],
   "source": [
    "\n",
    "alpha = 0.1\n",
    "Js = []\n",
    "accs = []\n",
    "\n",
    "# please test different K  \n",
    "K = 3000\n",
    "\n",
    "for i in range(K):\n",
    "    a = logisticModel(w, x)\n",
    "    grad_w = grad(a, x, y)\n",
    "    w = w - alpha * grad_w\n",
    "    Js.append(cost(a, y))\n",
    "    accs.append(accuarcy(a, y))\n",
    "\n",
    "plt.plot(Js,'r-*',label=\"cost\")\n",
    "plt.plot(accs,'b-',label=\"accuracy\")\n",
    "plt.legend()\n",
    "plt.savefig(\"cost.jpg\")\n",
    "print(\"-\"*40)\n",
    "print(\"gradient descent method: w={}\".format(w))\n",
    "print(\"-\"*40)   "
   ]
  },
  {
   "cell_type": "code",
   "execution_count": 88,
   "metadata": {},
   "outputs": [
    {
     "data": {
      "text/plain": [
       "0.9420035149384886"
      ]
     },
     "execution_count": 88,
     "metadata": {},
     "output_type": "execute_result"
    }
   ],
   "source": [
    "accuarcy(logisticModel(w, x),y)"
   ]
  }
 ],
 "metadata": {
  "kernelspec": {
   "display_name": "Python 3.9.2 64-bit",
   "metadata": {
    "interpreter": {
     "hash": "14da386a6e18213291816d02815fd85819b117a8cdf1629134f14b53ba124c27"
    }
   },
   "name": "python3"
  },
  "language_info": {
   "codemirror_mode": {
    "name": "ipython",
    "version": 3
   },
   "file_extension": ".py",
   "mimetype": "text/x-python",
   "name": "python",
   "nbconvert_exporter": "python",
   "pygments_lexer": "ipython3",
   "version": "3.8.8"
  }
 },
 "nbformat": 4,
 "nbformat_minor": 4
}
