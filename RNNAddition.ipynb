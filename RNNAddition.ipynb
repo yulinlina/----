{
 "cells": [
  {
   "cell_type": "code",
   "execution_count": 418,
   "metadata": {},
   "outputs": [],
   "source": [
    "import numpy as np\n",
    "import torch\n",
    "from torch import nn\n",
    "from torch.nn import functional as F\n",
    "from d2l import torch as d2l\n",
    "import random\n",
    "from itertools import accumulate\n",
    "import math\n"
   ]
  },
  {
   "cell_type": "code",
   "execution_count": 419,
   "metadata": {},
   "outputs": [
    {
     "name": "stdout",
     "output_type": "stream",
     "text": [
      "[0, 0, 1, 0, 0, 0, 0, 0, 0, 0, 1, 0, 0, 0, 0, 0, 0, 0, 0, 0, 0, 0, 0, 0, 0, 0, 0, 0, 0, 0, 0, 0, 0, 0, 0, 0, 0, 0, 0, 0, 0, 0, 0, 0, 0, 0, 0, 0, 0, 0, 0, 0, 0, 0, 0, 0, 0, 0, 0, 0, 0, 0, 0, 0, 0, 0, 0, 0, 0, 0, 0, 0, 0, 0, 0, 0, 0, 0, 0, 0, 0, 0, 0, 0, 0, 0, 0, 0, 0, 0, 0, 0, 0, 0, 0, 0, 0, 0, 0, 0]\n"
     ]
    }
   ],
   "source": [
    "T=100\n",
    "masks = [0]*T\n",
    "masks[2]=1\n",
    "masks[10]=1\n",
    "def generate_data(size=100):\n",
    "    train_x = torch.rand(size)\n",
    "    target = list(accumulate([x*mask for x, mask in zip(train_x,masks)]))\n",
    "    return train_x.reshape((-1,1)),torch.Tensor(target).reshape((-1,1))\n",
    "print(masks)"
   ]
  },
  {
   "cell_type": "code",
   "execution_count": 420,
   "metadata": {},
   "outputs": [
    {
     "name": "stdout",
     "output_type": "stream",
     "text": [
      "torch.Size([100, 1]) torch.Size([100, 1])\n",
      "tensor([0.9501], device='cuda:0')\n"
     ]
    }
   ],
   "source": [
    "X,target=generate_data()\n",
    "X=X.to(d2l.try_gpu())\n",
    "target=target.to(d2l.try_gpu())\n",
    "print(X.shape,target.shape)\n",
    "result=target[-1]\n",
    "print(result)\n"
   ]
  },
  {
   "cell_type": "code",
   "execution_count": 421,
   "metadata": {},
   "outputs": [],
   "source": [
    "def get_params(vocab_size, num_hiddens, device):# 输入词表大小，隐藏层大小\n",
    "    num_inputs = num_outputs = vocab_size\n",
    "    def normal(shape):\n",
    "        return torch.randn(size=shape, device=device) * 0.01\n",
    "        \"\"\"随机生成一个大小为shape的tensor 均值为0,方差为0.01\n",
    "            因为要多次调用，所以封装起来\n",
    "        \"\"\"\n",
    "    # 隐藏层参数\n",
    "    W_xh = normal((num_inputs, num_hiddens))\n",
    "    W_hh = normal((num_hiddens, num_hiddens))\n",
    "    b_h = torch.zeros(num_hiddens, device=device)\n",
    "    # 输出层参数\n",
    "    W_hq = normal((num_hiddens, num_outputs))\n",
    "    b_q = torch.zeros(num_outputs, device=device)\n",
    "     # 附加梯度\n",
    "    params = [W_xh, W_hh, b_h, W_hq, b_q] # 把参数封装起来成一个list\n",
    "    for param in params:\n",
    "        param.requires_grad_(True) # 需要算梯度\n",
    "    return params"
   ]
  },
  {
   "cell_type": "code",
   "execution_count": 422,
   "metadata": {},
   "outputs": [],
   "source": [
    "def init_rnn_state(batch_size, num_hiddens, device):\n",
    "    return (torch.zeros((batch_size, num_hiddens), device=device), )\n",
    "  "
   ]
  },
  {
   "cell_type": "code",
   "execution_count": 423,
   "metadata": {},
   "outputs": [],
   "source": [
    "def rnn(inputs, state, params):\n",
    "    # inputs的形状：(时间步数量，批量大小，词表大小)\n",
    "    W_xh, W_hh, b_h, W_hq, b_q = params # 列表可以展开对应赋值\n",
    "    H, = state # state是一个初始化tuple\n",
    "    outputs = [] \n",
    "    H = torch.tanh(torch.mm(X, W_xh)+ torch.mm(H, W_hh) + b_h) # 激活函数为tanh\n",
    "    Y = torch.mm(H, W_hq) + b_q\n",
    "    outputs.append(Y) # 把所有时刻的输出存储起来\n",
    "    return torch.cat(outputs, dim=0), (H,)\n",
    "    \"\"\"dim =0 :按照竖方向拼起来，列数不变，行数变成batch_size*numsteps，即把每一个batch的输出按照时间顺序拼成二维矩阵，输出每个样本的预测值和最后的隐藏状态\"\"\""
   ]
  },
  {
   "cell_type": "code",
   "execution_count": 424,
   "metadata": {},
   "outputs": [],
   "source": [
    "class RNNModelScratch: #@save\n",
    "    def __init__(self, vocab_size, num_hiddens, device,\n",
    "                 get_params, init_state, forward_fn):\n",
    "        self.vocab_size, self.num_hiddens = vocab_size, num_hiddens\n",
    "        self.params = get_params(vocab_size, num_hiddens, device)\n",
    "        self.init_state, self.forward_fn = init_state, forward_fn\n",
    "\n",
    "    def __call__(self, X, state): # X 是批量大小 * num_steps\n",
    "        # X = F.one_hot(X.T, self.vocab_size).type(torch.float32) #(num_steps,batch_size,len(vocab))\n",
    "        return self.forward_fn(X, state, self.params)\n",
    "\n",
    "    def begin_state(self, batch_size, device): # 初始状态\n",
    "        return self.init_state(batch_size, self.num_hiddens, device)"
   ]
  },
  {
   "cell_type": "code",
   "execution_count": 425,
   "metadata": {},
   "outputs": [
    {
     "data": {
      "text/plain": [
       "(torch.Size([100, 1]), 1, torch.Size([100, 512]))"
      ]
     },
     "execution_count": 425,
     "metadata": {},
     "output_type": "execute_result"
    }
   ],
   "source": [
    "num_hiddens = 512\n",
    "net = RNNModelScratch(1, num_hiddens, d2l.try_gpu(),\n",
    "                    get_params,init_rnn_state, rnn)\n",
    "state = net.begin_state(X.shape[0], d2l.try_gpu()) # 拿到初始状态\n",
    "Y, new_state = net(X.to(d2l.try_gpu()), state) # 进行一步前向计算\n",
    "Y.shape, len(new_state), new_state[0].shape\n",
    "# Y    第二维是预测向量\n",
    "# 隐状态形状保持不变，即（批量大小，隐藏单元数）"
   ]
  },
  {
   "cell_type": "code",
   "execution_count": 426,
   "metadata": {},
   "outputs": [],
   "source": [
    "def grad_clipping(net, theta):  \n",
    "    \"\"\"Clip the gradient.\"\"\"\n",
    "    if isinstance(net, nn.Module):\n",
    "        params = [p for p in net.parameters() if p.requires_grad]\n",
    "    else:\n",
    "        params = net.params\n",
    "    norm = torch.sqrt(sum(torch.sum((p.grad ** 2)) for p in params))\n",
    "    if norm > theta:\n",
    "        for param in params:\n",
    "            param.grad[:] *= theta / norm"
   ]
  },
  {
   "cell_type": "code",
   "execution_count": 427,
   "metadata": {},
   "outputs": [],
   "source": [
    "\n",
    "train_iters=(X,target)"
   ]
  },
  {
   "cell_type": "code",
   "execution_count": 428,
   "metadata": {},
   "outputs": [],
   "source": [
    "def train_ch(net, train_iter, vocab, lr, num_epochs, device,\n",
    "              use_random_iter=False):\n",
    "    loss = nn.MSELoss()\n",
    "    # Initialize\n",
    "    if isinstance(net, nn.Module):\n",
    "        updater = torch.optim.SGD(net.parameters(), lr)\n",
    "    else:\n",
    "        updater = lambda batch_size: d2l.sgd(net.params, lr, batch_size)\n",
    "    for epoch in range(num_epochs):\n",
    "        state, timer = None, d2l.Timer()\n",
    "        X,Y=train_iter\n",
    "        if state is None or use_random_iter:\n",
    "            state = net.begin_state(batch_size=X.shape[0], device=device)\n",
    "        else:\n",
    "            if isinstance(net, nn.Module) and not isinstance(state, tuple):\n",
    "                state.detach_()\n",
    "            else:\n",
    "                for s in state:\n",
    "                    s.detach_()\n",
    "        y = Y.T.reshape(-1).to(torch.float32)\n",
    "        X, y = X.to(device), y.to(device)\n",
    "        y_hat, state = net(X, state)\n",
    "        l = loss(y_hat.to(torch.float32), y.to(torch.float32)).mean()\n",
    "        if isinstance(updater, torch.optim.Optimizer):\n",
    "            updater.zero_grad()\n",
    "            l.backward()\n",
    "            grad_clipping(net, 1)\n",
    "            updater.step()\n",
    "        else:\n",
    "            l.backward()\n",
    "            grad_clipping(net, 1)\n",
    "            # Since the `mean` function has been invoked\n",
    "            updater(batch_size=1)\n",
    "        if (epoch+1)%100==1 and epoch:\n",
    "            print(f\"epoch:{epoch}  pedict:{net(X,state)[0].detach()[-1]}\")\n",
    "    \n",
    "        \n",
    "   "
   ]
  },
  {
   "cell_type": "code",
   "execution_count": 429,
   "metadata": {},
   "outputs": [
    {
     "name": "stderr",
     "output_type": "stream",
     "text": [
      "d:\\Anaconda3\\lib\\site-packages\\torch\\nn\\modules\\loss.py:520: UserWarning: Using a target size (torch.Size([100])) that is different to the input size (torch.Size([100, 1])). This will likely lead to incorrect results due to broadcasting. Please ensure they have the same size.\n",
      "  return F.mse_loss(input, target, reduction=self.reduction)\n"
     ]
    },
    {
     "name": "stdout",
     "output_type": "stream",
     "text": [
      "epoch:100  pedict:tensor([0.7851], device='cuda:0')\n",
      "epoch:200  pedict:tensor([0.8946], device='cuda:0')\n",
      "epoch:300  pedict:tensor([0.9044], device='cuda:0')\n",
      "epoch:400  pedict:tensor([0.9055], device='cuda:0')\n",
      "epoch:500  pedict:tensor([0.9060], device='cuda:0')\n",
      "epoch:600  pedict:tensor([0.9063], device='cuda:0')\n",
      "epoch:700  pedict:tensor([0.9067], device='cuda:0')\n",
      "epoch:800  pedict:tensor([0.9070], device='cuda:0')\n",
      "epoch:900  pedict:tensor([0.9073], device='cuda:0')\n",
      "epoch:1000  pedict:tensor([0.9076], device='cuda:0')\n",
      "epoch:1100  pedict:tensor([0.9079], device='cuda:0')\n",
      "epoch:1200  pedict:tensor([0.9082], device='cuda:0')\n",
      "epoch:1300  pedict:tensor([0.9084], device='cuda:0')\n",
      "epoch:1400  pedict:tensor([0.9087], device='cuda:0')\n",
      "epoch:1500  pedict:tensor([0.9090], device='cuda:0')\n",
      "epoch:1600  pedict:tensor([0.9092], device='cuda:0')\n",
      "epoch:1700  pedict:tensor([0.9095], device='cuda:0')\n",
      "epoch:1800  pedict:tensor([0.9097], device='cuda:0')\n",
      "epoch:1900  pedict:tensor([0.9099], device='cuda:0')\n",
      "result:tensor([0.9501], device='cuda:0')\n"
     ]
    }
   ],
   "source": [
    "num_epochs, lr = 2000, 0.01\n",
    "train_ch(net, train_iters, 1, lr, num_epochs, d2l.try_gpu())\n",
    "print(f\"result:{result}\")"
   ]
  }
 ],
 "metadata": {
  "interpreter": {
   "hash": "b09ec625f77bf4fd762565a912b97636504ad6ec901eb2d0f4cf5a7de23e1ee5"
  },
  "kernelspec": {
   "display_name": "Python 3.8.8 ('base')",
   "language": "python",
   "name": "python3"
  },
  "language_info": {
   "codemirror_mode": {
    "name": "ipython",
    "version": 3
   },
   "file_extension": ".py",
   "mimetype": "text/x-python",
   "name": "python",
   "nbconvert_exporter": "python",
   "pygments_lexer": "ipython3",
   "version": "3.8.8"
  },
  "orig_nbformat": 4
 },
 "nbformat": 4,
 "nbformat_minor": 2
}
